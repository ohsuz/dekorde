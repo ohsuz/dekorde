{
 "cells": [
  {
   "cell_type": "markdown",
   "metadata": {},
   "source": [
    "# Implementation of Transformers from Scratch\n",
    "\n",
    "**Reference**\n",
    "- Paper : [Attention is all you need (Ashish Vaswani, Noam Shazeer, Niki Parmar, Jakob Uszkoreit, Llion Jones, Aidan N. Gomez, Lukasz Kaiser, Illia Polosukhin, arxiv, 2017)](https://arxiv.org/pdf/1706.03762.pdf)\n",
    "- Code : [Pytorch Transformers from Scratch (Attention is all you need) by Aladdin Persson](https://youtu.be/U0s0f995w14)"
   ]
  },
  {
   "attachments": {},
   "cell_type": "markdown",
   "metadata": {},
   "source": [
    "![transformer](https://user-images.githubusercontent.com/59340911/136672443-fa2b2cca-131b-4bda-aa8a-63a252d2a291.png)\n",
    "The full model architecture of the transformer. (Image source: Fig 1 & 2 in Vaswani, et al., 2017.)"
   ]
  },
  {
   "cell_type": "code",
   "execution_count": 1,
   "metadata": {},
   "outputs": [],
   "source": [
    "import torch\n",
    "import torch.nn as nn"
   ]
  },
  {
   "attachments": {},
   "cell_type": "markdown",
   "metadata": {},
   "source": [
    "# 1. Self-Attention\n",
    "![self_attention](https://user-images.githubusercontent.com/59340911/136672447-5dc8abfe-3208-4061-a0a7-730e4e9781d6.png)"
   ]
  },
  {
   "cell_type": "code",
   "execution_count": 2,
   "metadata": {},
   "outputs": [],
   "source": [
    "class SelfAttention(nn.Module):\n",
    "    def __init__(self, embed_size, heads):\n",
    "        \"\"\"\n",
    "        Split embeddings into different parts (= # of heads)\n",
    "        ex. embed_size = 256, # of heads = 8 => 8 * 32(= head_dim)\n",
    "        \"\"\"\n",
    "        super(SelfAttention, self).__init__()\n",
    "        self.embed_size = embed_size\n",
    "        self.heads = heads\n",
    "        self.head_dim = embed_size // heads\n",
    "        \n",
    "        assert (self.head_dim * heads == embed_size), \"Embed size needs to be div by heads\"\n",
    "        \n",
    "        self.values = nn.Linear(self.head_dim, self.head_dim, bias=False)\n",
    "        self.keys = nn.Linear(self.head_dim, self.head_dim, bias=False)\n",
    "        self.queries = nn.Linear(self.head_dim, self.head_dim, bias=False)\n",
    "        self.fc_out = nn.Linear(heads*self.head_dim, embed_size) # heads*head_dim == embed_size\n",
    "        \n",
    "    def forward(self, values, keys, query, mask):\n",
    "        N = query.shape[0]\n",
    "        value_len, key_len, query_len = values.shape[1], keys.shape[1], query.shape[1]\n",
    "        \n",
    "        # Split embeddings into self.heads pieces\n",
    "        # (N, L, E) -> (N, L, heads, head_dim)\n",
    "        values = values.reshape(N, value_len, self.heads, self.head_dim)\n",
    "        keys = keys.reshape(N, key_len, self.heads, self.head_dim)\n",
    "        queries = query.reshape(N, query_len, self.heads, self.head_dim)\n",
    "        \n",
    "        values = self.values(values)\n",
    "        keys = self.keys(keys)\n",
    "        queries = self.queries(queries)\n",
    "        \n",
    "        \"\"\"\n",
    "        Matrix Multiplication\n",
    "        queries : (N, query_len, heads, head_dim)\n",
    "        keys : (N, key_len, heads, head_dim)\n",
    "        => energy : (N, heads, query_len, key_len)\n",
    "        \"\"\"\n",
    "        energy = torch.einsum(\"nqhd,nkhd->nhqk\", [queries, keys])\n",
    "        \n",
    "        if mask is not None:\n",
    "            # if the element of the mask equals zero, we make it have no impact on others\n",
    "            # by replacing it with a very very small value\n",
    "            energy = energy.masked_fill(mask == 0, float(\"-1e20\"))\n",
    "        \n",
    "        attention = torch.softmax(energy / (self.embed_size ** (1/2)), \n",
    "                                  dim=3) # dim=3 : normalize across the key length\n",
    "        \n",
    "        \"\"\"\n",
    "        attention : (N, heads, query_len, key_len)\n",
    "        values : (N, value_len, heads, head_dim)\n",
    "        => out : (N, query_len, heads, head_dim) = (N, query_len, embed_size) \n",
    "        \"\"\"\n",
    "        out = torch.einsum(\"nhql,nlhd->nqhd\", [attention, values]).reshape( # key_len == value_len\n",
    "            N, query_len, self.heads*self.head_dim\n",
    "        )\n",
    "        out = self.fc_out(out)\n",
    "        \n",
    "        return out"
   ]
  },
  {
   "attachments": {},
   "cell_type": "markdown",
   "metadata": {},
   "source": [
    "# 2. Transformer Block\n",
    "![transformer_block](https://user-images.githubusercontent.com/59340911/136672456-c81f4de1-5818-42c9-9297-b4633d810335.png)"
   ]
  },
  {
   "attachments": {},
   "cell_type": "markdown",
   "metadata": {},
   "source": [
    "![ffn](https://user-images.githubusercontent.com/59340911/136672462-a6026cff-7456-485e-a273-f4f84d3ef93c.png)"
   ]
  },
  {
   "cell_type": "code",
   "execution_count": 3,
   "metadata": {},
   "outputs": [],
   "source": [
    "class TransformerBlock(nn.Module):\n",
    "    def __init__(self, embed_size, heads, dropout, forward_expansion):\n",
    "        super(TransformerBlock, self).__init__()\n",
    "        self.attention = SelfAttention(embed_size, heads)\n",
    "        self.norm1 = nn.LayerNorm(embed_size)\n",
    "        self.norm2 = nn.LayerNorm(embed_size)\n",
    "        \n",
    "        # don't change anything, just more computation and map it back\n",
    "        self.feed_forward = nn.Sequential(\n",
    "            nn.Linear(embed_size, forward_expansion*embed_size),\n",
    "            nn.ReLU(),\n",
    "            nn.Linear(forward_expansion*embed_size, embed_size)\n",
    "        )\n",
    "        self.dropout = nn.Dropout(dropout)\n",
    "        \n",
    "    def forward(self, value, key, query, mask):\n",
    "        attention = self.attention(value, key, query, mask)\n",
    "        x = self.dropout(self.norm1(attention + query))\n",
    "        forward = self.feed_forward(x)\n",
    "        out = self.dropout(self.norm2(forward + x))\n",
    "        return out"
   ]
  },
  {
   "attachments": {},
   "cell_type": "markdown",
   "metadata": {},
   "source": [
    "# 3. Encoder\n",
    "![encoder](https://user-images.githubusercontent.com/59340911/136672466-a73840b7-bd34-41e5-bf70-23a292e45262.png)"
   ]
  },
  {
   "cell_type": "code",
   "execution_count": 4,
   "metadata": {},
   "outputs": [],
   "source": [
    "class Encoder(nn.Module):\n",
    "    def __init__(\n",
    "        self,\n",
    "        src_vocab_size,\n",
    "        embed_size,\n",
    "        num_layers,\n",
    "        heads,\n",
    "        device,\n",
    "        forward_expansion,\n",
    "        dropout,\n",
    "        max_length # related to positional embedding\n",
    "    ):\n",
    "        super(Encoder, self).__init__()\n",
    "        self.embed_size = embed_size\n",
    "        self.device = device\n",
    "        self.word_embedding = nn.Embedding(src_vocab_size, embed_size)\n",
    "        self.position_embedding = nn.Embedding(max_length, embed_size)\n",
    "        \n",
    "        self.layers = nn.ModuleList(\n",
    "            [\n",
    "                TransformerBlock(\n",
    "                    embed_size,\n",
    "                    heads,\n",
    "                    dropout=dropout,\n",
    "                    forward_expansion=forward_expansion\n",
    "                )\n",
    "                for _ in range(num_layers)\n",
    "            ]\n",
    "        )\n",
    "        self.dropout = nn.Dropout(dropout)\n",
    "        \n",
    "    def forward(self, x, mask):\n",
    "        N, seq_length = x.shape # (N, L)\n",
    "        positions = torch.arange(0, seq_length).expand(N, seq_length).to(self.device)\n",
    "        \n",
    "        out = self.dropout(self.word_embedding(x) + self.position_embedding(positions))\n",
    "        \n",
    "        for layer in self.layers:\n",
    "            out = layer(out, out, out, mask) # q == k == v\n",
    "        \n",
    "        return out"
   ]
  },
  {
   "attachments": {},
   "cell_type": "markdown",
   "metadata": {},
   "source": [
    "![positions](https://user-images.githubusercontent.com/59340911/136672473-3111c32b-39f3-4c0c-8e20-945b390d8857.png)"
   ]
  },
  {
   "cell_type": "code",
   "execution_count": 5,
   "metadata": {},
   "outputs": [
    {
     "name": "stdout",
     "output_type": "stream",
     "text": [
      "torch.Size([10])\n"
     ]
    },
    {
     "data": {
      "text/plain": [
       "tensor([[0, 1, 2, 3, 4, 5, 6, 7, 8, 9],\n",
       "        [0, 1, 2, 3, 4, 5, 6, 7, 8, 9],\n",
       "        [0, 1, 2, 3, 4, 5, 6, 7, 8, 9],\n",
       "        [0, 1, 2, 3, 4, 5, 6, 7, 8, 9],\n",
       "        [0, 1, 2, 3, 4, 5, 6, 7, 8, 9]])"
      ]
     },
     "execution_count": 5,
     "metadata": {},
     "output_type": "execute_result"
    }
   ],
   "source": [
    "# for better understanding\n",
    "positions = torch.arange(0, 10).expand(5, 10) # (1, 10) -> (5, 10)\n",
    "print(torch.arange(0, 10).shape) \n",
    "positions"
   ]
  },
  {
   "attachments": {},
   "cell_type": "markdown",
   "metadata": {},
   "source": [
    "# 4. Decoder Block\n",
    "![decoder_block](https://user-images.githubusercontent.com/59340911/136672478-4d51d95a-9cf5-4d5b-a413-7f0ba6429a90.png)"
   ]
  },
  {
   "cell_type": "code",
   "execution_count": 6,
   "metadata": {},
   "outputs": [],
   "source": [
    "class DecoderBlock(nn.Module):\n",
    "    def __init__(\n",
    "        self,\n",
    "        embed_size,\n",
    "        heads,\n",
    "        forward_expansion,\n",
    "        dropout,\n",
    "        device\n",
    "    ):\n",
    "        super(DecoderBlock, self).__init__()\n",
    "        self.attention = SelfAttention(embed_size, heads)\n",
    "        self.norm = nn.LayerNorm(embed_size)\n",
    "        self.transformer_block = TransformerBlock(\n",
    "            embed_size,\n",
    "            heads,\n",
    "            dropout,\n",
    "            forward_expansion\n",
    "        )\n",
    "        self.dropout = nn.Dropout(dropout)\n",
    "        \n",
    "    def forward(self, x, value, key, src_mask, trg_mask):\n",
    "        \"\"\"\n",
    "        src_mask : Optional\n",
    "        To make all examples have equal length, we add a [PAD] token.\n",
    "        If we use src_mask, we don't do unnecessary computations for tokens that are padded.\n",
    "        \"\"\"\n",
    "        attention = self.attention(x, x, x, trg_mask) # masked mha\n",
    "        query = self.dropout(self.norm(attention + x))\n",
    "        out = self.transformer_block(value, key, query, src_mask)\n",
    "        return out"
   ]
  },
  {
   "attachments": {},
   "cell_type": "markdown",
   "metadata": {},
   "source": [
    "# 5. Decoder\n",
    "![decoder](https://user-images.githubusercontent.com/59340911/136672489-0b92cf05-9244-4037-82d4-e379122ef684.png)"
   ]
  },
  {
   "cell_type": "code",
   "execution_count": 7,
   "metadata": {},
   "outputs": [],
   "source": [
    "class Decoder(nn.Module):\n",
    "    def __init__(\n",
    "        self,\n",
    "        trg_vocab_size,\n",
    "        embed_size,\n",
    "        num_layers,\n",
    "        heads,\n",
    "        forward_expansion,\n",
    "        dropout,\n",
    "        device,\n",
    "        max_length\n",
    "    ):\n",
    "        super(Decoder, self).__init__()\n",
    "        self.device = device\n",
    "        self.word_embedding = nn.Embedding(trg_vocab_size, embed_size)\n",
    "        self.position_embedding = nn.Embedding(max_length, embed_size)\n",
    "        \n",
    "        self.layers = nn.ModuleList(\n",
    "            [\n",
    "                DecoderBlock(\n",
    "                    embed_size,\n",
    "                    heads,\n",
    "                    forward_expansion,\n",
    "                    dropout,\n",
    "                    device\n",
    "                )\n",
    "                for _ in range(num_layers)\n",
    "            ]\n",
    "        )\n",
    "        self.fc_out = nn.Linear(embed_size, trg_vocab_size)\n",
    "        self.dropout = nn.Dropout(dropout)\n",
    "       \n",
    "    def forward(self, x, enc_out, src_mask, trg_mask):\n",
    "        N, seq_length = x.shape\n",
    "        positions = torch.arange(0, seq_length).expand(N, seq_length).to(self.device)\n",
    "        x = self.dropout(self.word_embedding(x) + self.position_embedding(positions))\n",
    "        \n",
    "        for layer in self.layers:\n",
    "            x = layer(x, enc_out, enc_out, src_mask, trg_mask)\n",
    "            \n",
    "        out = self.fc_out(x)\n",
    "        return out"
   ]
  },
  {
   "attachments": {},
   "cell_type": "markdown",
   "metadata": {},
   "source": [
    "# 6. Transformer\n",
    "![transformer](https://user-images.githubusercontent.com/59340911/136672443-fa2b2cca-131b-4bda-aa8a-63a252d2a291.png)"
   ]
  },
  {
   "cell_type": "code",
   "execution_count": 8,
   "metadata": {},
   "outputs": [],
   "source": [
    "class Transformer(nn.Module):\n",
    "    def __init__(\n",
    "        self,\n",
    "        src_vocab_size,\n",
    "        trg_vocab_size,\n",
    "        src_pad_idx,\n",
    "        trg_pad_idx,\n",
    "        embed_size=256,\n",
    "        num_layers=6,\n",
    "        forward_expansion=4,\n",
    "        heads=8,\n",
    "        dropout=0,\n",
    "        device=\"cuda\",\n",
    "        max_length=100\n",
    "    ):\n",
    "        super(Transformer, self).__init__()\n",
    "        \n",
    "        self.encoder = Encoder(\n",
    "            src_vocab_size,\n",
    "            embed_size,\n",
    "            num_layers,\n",
    "            heads,\n",
    "            device,\n",
    "            forward_expansion,\n",
    "            dropout,\n",
    "            max_length\n",
    "        )\n",
    "        \n",
    "        self.decoder = Decoder(\n",
    "            trg_vocab_size,\n",
    "            embed_size,\n",
    "            num_layers,\n",
    "            heads,\n",
    "            forward_expansion,\n",
    "            dropout,\n",
    "            device,\n",
    "            max_length\n",
    "        )\n",
    "        \n",
    "        self.src_pad_idx = src_pad_idx\n",
    "        self.trg_pad_idx = trg_pad_idx\n",
    "        self.device = device\n",
    "        \n",
    "    def make_src_mask(self, src):\n",
    "        src_mask = (src != self.src_pad_idx).unsqueeze(1).unsqueeze(2) # (N, src_len) -> (N, 1, 1, src_len)\n",
    "        return src_mask.to(self.device)\n",
    "    \n",
    "    def make_trg_mask(self, trg):\n",
    "        N, trg_len = trg.shape\n",
    "        trg_mask = torch.tril(torch.ones((trg_len, trg_len))).expand( # (trg_len, trg_len) -> (N, 1, trg_len, trg_len)\n",
    "            N, 1, trg_len, trg_len\n",
    "        )\n",
    "        return trg_mask.to(self.device)\n",
    "    \n",
    "    def forward(self, src, trg):\n",
    "        src_mask = self.make_src_mask(src)\n",
    "        trg_mask = self.make_trg_mask(trg)\n",
    "        enc_src = self.encoder(src, src_mask)\n",
    "        out = self.decoder(trg, enc_src, src_mask, trg_mask)\n",
    "        return out"
   ]
  },
  {
   "cell_type": "markdown",
   "metadata": {},
   "source": [
    "- Why \"(N, src_len) -> (N, 1, 1, src_len)\" & \"(trg_len, trg_len) -> (N, 1, trg_len, trg_len)\"?\n",
    "    - Because we use masks for the vector which dimension is (N, heads, query_len, key_len).\n",
    "    - Image Source : https://github.com/paul-hyun/transformer-evolution"
   ]
  },
  {
   "attachments": {},
   "cell_type": "markdown",
   "metadata": {},
   "source": [
    "![encoder](https://user-images.githubusercontent.com/59340911/136672425-d96b9967-7408-4cf0-9908-f0d47a6237ef.png)"
   ]
  },
  {
   "attachments": {},
   "cell_type": "markdown",
   "metadata": {},
   "source": [
    "![decoder](https://user-images.githubusercontent.com/59340911/136672426-cb91b8cf-0042-4d3d-a081-a6c48585c89f.png)"
   ]
  },
  {
   "cell_type": "markdown",
   "metadata": {},
   "source": [
    "# 7. How It Works"
   ]
  },
  {
   "cell_type": "code",
   "execution_count": 9,
   "metadata": {
    "scrolled": true
   },
   "outputs": [
    {
     "name": "stdout",
     "output_type": "stream",
     "text": [
      "cuda\n",
      "tensor([[[-0.2093,  0.0763, -0.6496,  0.6595,  0.3369,  0.0987,  0.5505,\n",
      "          -0.8110, -0.5675, -0.5306],\n",
      "         [ 0.1050,  0.2950, -0.3066,  0.0709, -0.1792,  0.2724,  0.7345,\n",
      "          -0.3551, -0.4767,  0.1399],\n",
      "         [-1.5266, -0.1127,  0.2552,  0.0400,  0.4366, -0.0451,  0.2982,\n",
      "          -0.7908, -1.2410, -0.8053],\n",
      "         [-0.2560,  0.2025, -0.8274, -0.9275,  0.3588, -0.2666,  0.6953,\n",
      "          -0.4531, -1.9198,  1.0471],\n",
      "         [-0.1886,  0.1243, -1.2540, -0.2852,  0.1705,  0.1605, -0.4975,\n",
      "          -0.4545, -1.0439, -0.6507],\n",
      "         [ 0.2705,  0.0466, -0.9329,  0.0520, -0.0092, -0.1894,  1.0094,\n",
      "          -1.0697, -1.8518,  0.5283],\n",
      "         [ 0.2934,  0.0611, -1.3078, -0.9980,  0.0581,  0.2332,  0.0848,\n",
      "          -1.1099, -0.4155,  0.9614]],\n",
      "\n",
      "        [[-0.1702,  0.0468, -0.7531,  0.6788,  0.1154,  0.0813,  0.4585,\n",
      "          -1.0972, -0.4126, -0.6720],\n",
      "         [-0.4773,  0.7665, -0.8518,  0.2010,  0.2601,  0.5256,  0.0100,\n",
      "          -0.0092,  0.0574, -0.2929],\n",
      "         [-1.2488,  0.5023, -0.1737, -0.0758,  0.1152, -0.0685,  0.2191,\n",
      "          -1.3897, -0.7962, -0.0462],\n",
      "         [ 0.1977,  0.5750, -1.4144, -0.4674,  0.0433, -0.1536,  0.6820,\n",
      "          -1.0754, -0.3496,  1.2656],\n",
      "         [-1.1014, -0.1385, -0.9762, -0.1376,  0.1759,  0.0034, -0.2393,\n",
      "          -0.7570, -0.7817, -0.6519],\n",
      "         [ 0.5809, -0.0830, -0.7688, -0.1202, -1.0629,  0.3216,  0.8845,\n",
      "          -1.2721, -0.2916,  0.8325],\n",
      "         [-0.9675,  0.8350, -0.5754, -0.6419,  0.0396,  0.0336,  0.1714,\n",
      "          -1.3693, -0.4891,  0.7646]]], device='cuda:0',\n",
      "       grad_fn=<AddBackward0>)\n",
      "torch.Size([2, 7, 10])\n"
     ]
    }
   ],
   "source": [
    "if __name__ == \"__main__\":\n",
    "    device = torch.device(\"cuda\" if torch.cuda.is_available() else \"cpu\")\n",
    "    print(device)\n",
    "\n",
    "    x = torch.tensor([[1, 5, 6, 4, 3, 9, 5, 2, 0], [1, 8, 7, 3, 4, 5, 6, 7, 2]]).to(device)\n",
    "    trg = torch.tensor([[1, 7, 4, 3, 5, 9, 2, 0], [1, 5, 6, 2, 4, 7, 6, 2]]).to(device)\n",
    "\n",
    "    src_pad_idx = 0\n",
    "    trg_pad_idx = 0\n",
    "    src_vocab_size = 10\n",
    "    trg_vocab_size = 10\n",
    "    model = Transformer(src_vocab_size, trg_vocab_size, src_pad_idx, trg_pad_idx, device=device).to(\n",
    "        device\n",
    "    )\n",
    "    out = model(x, trg[:, :-1])\n",
    "    print(out)\n",
    "    print(out.shape)"
   ]
  },
  {
   "cell_type": "code",
   "execution_count": null,
   "metadata": {},
   "outputs": [],
   "source": []
  }
 ],
 "metadata": {
  "kernelspec": {
   "display_name": "Python 3",
   "language": "python",
   "name": "python3"
  },
  "language_info": {
   "codemirror_mode": {
    "name": "ipython",
    "version": 3
   },
   "file_extension": ".py",
   "mimetype": "text/x-python",
   "name": "python",
   "nbconvert_exporter": "python",
   "pygments_lexer": "ipython3",
   "version": "3.6.9"
  }
 },
 "nbformat": 4,
 "nbformat_minor": 2
}
